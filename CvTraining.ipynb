{
 "cells": [
  {
   "cell_type": "code",
   "execution_count": null,
   "id": "81997217",
   "metadata": {},
   "outputs": [],
   "source": [
    "import pandas as pd\n",
    "import numpy as np\n",
    "\n",
    "df = pd.read_excel('app_data.xlsx')\n",
    "df_processed = df.copy()\n",
    "target_variables = ['Diagnosis', \n",
    "                    'Management', \n",
    "                    'Severity']"
   ]
  },
  {
   "cell_type": "code",
   "execution_count": null,
   "id": "916bcae0",
   "metadata": {},
   "outputs": [],
   "source": [
    "#substitui valores NaN com a mediana\n",
    "numeric_columns = df_processed.select_dtypes(include=np.number).columns\n",
    "for col in numeric_columns:\n",
    "    if df_processed[col].isnull().any():\n",
    "        median_val = df_processed[col].median()\n",
    "        df_processed[col].fillna(median_val, inplace=True)\n",
    "\n",
    "#valores bool -> num\n",
    "boolean_columns = df_processed.select_dtypes(include='bool').columns\n",
    "for col in boolean_columns:\n",
    "    df_processed[col] = df_processed[col].astype(int)\n",
    "    \n",
    "#valores nulos preenchidos com a moda\n",
    "categorical_features_for_imputation = df_processed.select_dtypes(include=['object']).columns.tolist()\n",
    "categorical_features_for_imputation = [col for col in categorical_features_for_imputation if col not in target_variables]\n",
    "\n",
    "for col in categorical_features_for_imputation:\n",
    "    if df_processed[col].isnull().any():\n",
    "        mode_val = df_processed[col].mode()[0] \n",
    "        df_processed[col].fillna(mode_val, inplace=True)\n",
    "        \n",
    "#colunas categoricas -> num\n",
    "categorical_features_for_ohe = df_processed.select_dtypes(include=['object']).columns.tolist()\n",
    "categorical_features_for_ohe = [col for col in categorical_features_for_ohe if col not in target_variables] \n",
    "\n",
    "df_processed = pd.get_dummies(df_processed, columns=categorical_features_for_ohe, drop_first=True)"
   ]
  },
  {
   "cell_type": "code",
   "execution_count": 2,
   "id": "b6e73bf0",
   "metadata": {},
   "outputs": [],
   "source": [
    "from sklearn.preprocessing import LabelEncoder\n",
    "from sklearn.ensemble import RandomForestClassifier\n",
    "from sklearn.model_selection import KFold, cross_val_score\n",
    "from sklearn.model_selection import train_test_split\n",
    "\n",
    "#label categorica -> num\n",
    "kf = KFold(n_splits=5, shuffle=True, random_state=42)\n",
    "\n",
    "diagnosisModel = RandomForestClassifier(n_estimators=100, random_state=42)\n",
    "managementModel = RandomForestClassifier(n_estimators=100, random_state=42)\n",
    "severityModel = RandomForestClassifier(n_estimators=100, random_state=42)\n",
    "\n",
    "diagLe = LabelEncoder()\n",
    "managLe = LabelEncoder()\n",
    "sevLe = LabelEncoder()"
   ]
  },
  {
   "cell_type": "code",
   "execution_count": null,
   "id": "54bd6cb8",
   "metadata": {},
   "outputs": [],
   "source": [
    "df_processed['Diagnosis_enc'] = diagLe.fit_transform(df_processed['Diagnosis'])\n",
    "df_processed['Management_enc'] = managLe.fit_transform(df_processed['Management'])\n",
    "df_processed['Severity_enc'] = sevLe.fit_transform(df_processed['Severity'])\n",
    "\n",
    "encoded_cols = ['Diagnosis_enc', 'Management_enc', 'Severity_enc']\n",
    "\n",
    "for col in encoded_cols:\n",
    "    print(f\"Value counts for '{col}':\")\n",
    "    print(df_processed[col].value_counts())\n",
    "    print(\"-\" * 30)"
   ]
  },
  {
   "cell_type": "code",
   "execution_count": null,
   "id": "7783e551",
   "metadata": {},
   "outputs": [],
   "source": [
    "#dropa classes com baixa ocorrencia\n",
    "rows_to_drop_indices = []\n",
    "for col in encoded_cols:\n",
    "    value_counts = df_processed[col].value_counts()\n",
    "    low_occurrence_encoded_values = value_counts[(value_counts == 1) | (value_counts == 2)].index.tolist()\n",
    "\n",
    "    if low_occurrence_encoded_values:\n",
    "        indices_for_this_col = df_processed[df_processed[col].isin(low_occurrence_encoded_values)].index\n",
    "        rows_to_drop_indices.extend(indices_for_this_col)\n",
    "\n",
    "rows_to_drop_indices = list(set(rows_to_drop_indices))\n",
    "\n",
    "#drpando colunas\n",
    "if rows_to_drop_indices:\n",
    "    df_processed.drop(rows_to_drop_indices, inplace=True)\n",
    "\n",
    "for col in encoded_cols:\n",
    "    print(f\"\\n{col}:\")\n",
    "    print(df_processed[col].value_counts())"
   ]
  },
  {
   "cell_type": "code",
   "execution_count": null,
   "id": "fb0a5427",
   "metadata": {},
   "outputs": [],
   "source": [
    "#diagnosis model\n",
    "#variaveis\n",
    "diag_X = df_processed.drop(target_variables + ['Diagnosis_enc'], axis=1)\n",
    "#classificadores\n",
    "diag_y = df_processed['Diagnosis_enc']\n",
    "\n",
    "diag_X_train, diag_X_test, diag_y_train, diag_y_test = train_test_split(diag_X, diag_y, test_size=0.2, random_state=42, stratify=diag_y)\n",
    "\n",
    "diagnosis_cv_scores = cross_val_score(diagnosisModel, diag_X, diag_y, cv=kf, scoring='accuracy')\n",
    "\n",
    "diagnosisModel.fit(diag_X_train, diag_y_train)"
   ]
  },
  {
   "cell_type": "code",
   "execution_count": null,
   "id": "dc6d7ac1",
   "metadata": {},
   "outputs": [],
   "source": [
    "#management model \n",
    "manag_X = df_processed.drop(target_variables + ['Management_enc'], axis=1)\n",
    "\n",
    "manag_y = df_processed['Management_enc']\n",
    "\n",
    "manag_X_train, manag_X_test, manag_y_train, manag_y_test = train_test_split(manag_X, manag_y, test_size=0.2, random_state=42, stratify=manag_y)\n",
    "\n",
    "manag_cv_scores = cross_val_score(managementModel, manag_X, manag_y, cv=kf, scoring='accuracy')\n",
    "\n",
    "managementModel.fit(manag_X_train, manag_y_train)"
   ]
  },
  {
   "cell_type": "code",
   "execution_count": null,
   "id": "d33b8a67",
   "metadata": {},
   "outputs": [],
   "source": [
    "#severity model\n",
    "sev_X = df_processed.drop(target_variables + ['Severity_enc'], axis=1)\n",
    "\n",
    "sev_y = df_processed['Severity_enc']\n",
    "\n",
    "sev_X_train, sev_X_test, sev_y_train, sev_y_test = train_test_split(sev_X, sev_y, test_size=0.2, random_state=42, stratify=sev_y)\n",
    "\n",
    "severity_cv_scores = cross_val_score(severityModel, sev_X, sev_y, cv=kf, scoring='accuracy')\n",
    "\n",
    "severityModel.fit(sev_X_train, sev_y_train)"
   ]
  },
  {
   "cell_type": "code",
   "execution_count": null,
   "id": "fae76fe3",
   "metadata": {},
   "outputs": [],
   "source": [
    "#salvando modelos treinados\n",
    "import joblib\n",
    "import os\n",
    "\n",
    "SAVE_MODEL = 'models'\n",
    "if not os.path.exists(SAVE_MODEL):\n",
    "    os.makedirs(SAVE_MODEL)\n",
    "    \n",
    "joblib.dump(diagnosisModel, os.path.join(SAVE_MODEL, 'diagnosis_model.joblib'))\n",
    "joblib.dump(diagLe, os.path.join(SAVE_MODEL, 'leDiagnosis.joblib'))\n",
    "\n",
    "joblib.dump(managementModel, os.path.join(SAVE_MODEL, 'management_model.joblib'))\n",
    "joblib.dump(managLe, os.path.join(SAVE_MODEL, 'leManagement.joblib'))\n",
    "\n",
    "joblib.dump(severityModel, os.path.join(SAVE_MODEL, 'severity_model.joblib'))\n",
    "joblib.dump(sevLe, os.path.join(SAVE_MODEL, 'leSeverity.joblib'))\n",
    "\n",
    "joblib.dump(diag_X.columns.tolist(), os.path.join(SAVE_MODEL, 'trained_X_col_diagnosis.joblib'))\n",
    "joblib.dump(manag_X.columns.tolist(), os.path.join(SAVE_MODEL, 'trained_X_col_management.joblib'))\n",
    "joblib.dump(sev_X.columns.tolist(), os.path.join(SAVE_MODEL, 'trained_X_col_severity.joblib'))\n",
    "joblib.dump(df.columns.tolist(), os.path.join(SAVE_MODEL, 'df_colunas_origin.joblib'))"
   ]
  }
 ],
 "metadata": {
  "kernelspec": {
   "display_name": "Python 3 (ipykernel)",
   "language": "python",
   "name": "python3"
  },
  "language_info": {
   "codemirror_mode": {
    "name": "ipython",
    "version": 3
   },
   "file_extension": ".py",
   "mimetype": "text/x-python",
   "name": "python",
   "nbconvert_exporter": "python",
   "pygments_lexer": "ipython3",
   "version": "3.12.5"
  }
 },
 "nbformat": 4,
 "nbformat_minor": 5
}
